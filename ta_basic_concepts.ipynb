{
 "cells": [
  {
   "cell_type": "markdown",
   "metadata": {
    "slideshow": {
     "slide_type": "slide"
    }
   },
   "source": [
    "# Analysis Techniques - Statistical Methods - Index\n",
    "\n",
    "\n",
    "## Universidade de Santiago \n",
    "\n",
    "---\n",
    "\n",
    "## Lecture I -  Basic concepts\n",
    "\n",
    "*Author: Jose A. Hernando*, January 2020\n",
    "\n",
    "*Instituto Galego de Altas Enerxías. Universidade de Santiago de Compostela, Spain.*"
   ]
  },
  {
   "cell_type": "code",
   "execution_count": 2,
   "metadata": {
    "slideshow": {
     "slide_type": "fragment"
    }
   },
   "outputs": [
    {
     "name": "stdout",
     "output_type": "stream",
     "text": [
      " Last Execution  Fri Feb  5 10:17:26 2021\n"
     ]
    }
   ],
   "source": [
    "import time\n",
    "print( ' Last Execution ', time.asctime())"
   ]
  },
  {
   "cell_type": "code",
   "execution_count": 3,
   "metadata": {
    "slideshow": {
     "slide_type": "subslide"
    }
   },
   "outputs": [],
   "source": [
    "# general imports\n",
    "%matplotlib inline\n",
    "%reload_ext autoreload\n",
    "%autoreload 2\n",
    "\n",
    "# numpy and matplotlib\n",
    "import numpy as np\n",
    "import matplotlib.pyplot as plt\n",
    "import scipy.stats       as stats\n",
    "import scipy.optimize     as optimize \n",
    "\n",
    "import htintro_examples  as htexam\n",
    "\n",
    "plt.style.context('seaborn-colorblind');"
   ]
  },
  {
   "cell_type": "markdown",
   "metadata": {
    "slideshow": {
     "slide_type": "slide"
    }
   },
   "source": [
    "## 1. Baye's Theorem \n",
    "\n",
    "### Kolmogoriv axioms\n",
    "\n",
    "Nature is probabilistic. \n",
    "\n",
    "The starting point of probability are the **Kolmogorov axioms**:\n",
    "\n",
    "* The probability for an event, $E$, is non negative $P(E)\\ge 0$.\n",
    "* The probability for the entire space of possibilities, $\\Omega$, is one, $P(\\Omega) = 1$.\n",
    "* The probability for disjoint events, $E_1,\\dots,E_n$, is additive, $P(E_1  \\dots  \\cup E_n) = \\sum_{i=1,n} P(E_i)$."
   ]
  },
  {
   "cell_type": "markdown",
   "metadata": {
    "slideshow": {
     "slide_type": "subslide"
    }
   },
   "source": [
    "From there we obtain the following corollaries:\n",
    "* $P(A \\cup B) = P(A) + P(B) - P(A \\cap B) $\n",
    "* $P(!E) = 1- P(E)$ \n",
    "\n",
    "  where $!E$ is probability that $E$ does not happen."
   ]
  },
  {
   "cell_type": "markdown",
   "metadata": {
    "slideshow": {
     "slide_type": "slide"
    }
   },
   "source": [
    "### Bayes' theorem\n",
    "\n",
    "The probability $P(A)$ that an event happens is called **marginal probability**. \n",
    "\n",
    "  For example, the probability to roll a dice and get 3.\n",
    "\n",
    "The probability that an event $A$ happens if another one $B$ has happened is called **conditional probability**, $P(A|B)$.\n",
    "\n",
    "  For example, the probability that rolling your dice is 3 if you know that the number obtained was odd, in that case $P(3|\\mathrm{odd})=1/3$. \n"
   ]
  },
  {
   "cell_type": "markdown",
   "metadata": {
    "slideshow": {
     "slide_type": "subslide"
    }
   },
   "source": [
    "The Bayes' theorem relates both probabilities: if $A,B$ are two events with marginal probabilities $P(A),\\, P(B)$, the conditional probabilities $P(A|B), \\, P(B|A)$ are:\n",
    "\n",
    "$$\n",
    "P(A|B) \\, P(B) = P(B|A)\\,P(A)\n",
    "$$"
   ]
  },
  {
   "cell_type": "markdown",
   "metadata": {
    "slideshow": {
     "slide_type": "slide"
    }
   },
   "source": [
    "**Example:** consider the experiment of rolling two dices, $A$ is the case when the sum of both dices is 6, and $B$ when one of them is 4. Verify the Baye's theorem."
   ]
  },
  {
   "cell_type": "markdown",
   "metadata": {
    "slideshow": {
     "slide_type": "fragment"
    }
   },
   "source": [
    "The probability to get six adding both dices is $P(A)= 5/36$, possible outcomes are $\\{(1,5),(2,4),(3,3),(4,2),(5,1)\\}$.\n",
    "\n",
    "The probability to get four when the addition is six is $P(B|A)=2/5$. \n",
    "\n",
    "The probability to get a dice with four is $P(B)=11/36$. \n",
    "\n",
    "The probability that both add six if one is four is $2/11$, therefore:\n",
    "\n",
    "$$\n",
    "\\frac{11}{36} \\, \\frac{2}{11} = \\frac{2}{5} \\, \\frac{5}{36} = \\frac{1}{18}\n",
    "$$"
   ]
  },
  {
   "cell_type": "markdown",
   "metadata": {
    "slideshow": {
     "slide_type": "slide"
    }
   },
   "source": [
    "**Exercise:** The probability of an individual to have HIV+ is 1 in 10000. Consider a medical test of HIV. If the patient is HIV+, the test is positive in 99 % of the times, but if the person is HIV- person, the test can wrongly be positive in 2 % of the times. After a test, a patient is diagnosed with HIV+, what is the probability that he has HIV +? Should the doctor repeat the test?\n",
    "\n"
   ]
  },
  {
   "cell_type": "markdown",
   "metadata": {
    "slideshow": {
     "slide_type": "subslide"
    }
   },
   "source": [
    "$$\n",
    "p(H+ | +) = \\frac{p(+ | H+) p(H+)}{p(+)} =  \\frac{p(+ | H+) p(H+)}{p(+ | H+) p (H+) + p(+ | H-) p (H-)}\n",
    "$$\n",
    "\n",
    "con\n",
    "\n",
    "$$\n",
    "p(H+) = 10^{-4}, \\; p(H-) = 1-10^{-4}, \\; p(+ | H+) = 0.99, \\; p(+ | H-) = 0.02 \n",
    "$$"
   ]
  },
  {
   "cell_type": "code",
   "execution_count": 4,
   "metadata": {
    "slideshow": {
     "slide_type": "fragment"
    }
   },
   "outputs": [
    {
     "name": "stdout",
     "output_type": "stream",
     "text": [
      "0.8319467554076538\n"
     ]
    }
   ],
   "source": [
    "def bayes_pax(pa, pxa, pxnoa):\n",
    "    return (pxa * pa) / (pxa * pa + pxnoa * (1-pa))\n",
    "\n",
    "pax = bayes_pax(1e-4, 0.99, 0.00002)\n",
    "print(pax)"
   ]
  },
  {
   "cell_type": "markdown",
   "metadata": {
    "slideshow": {
     "slide_type": "slide"
    }
   },
   "source": [
    "**Exercise:** A neutrino experiment has a problem with the DAQ, and 5% of the runing time it does not observe interactions. The neutrinos are produced by a reactor nearby that operates 75% of the time. In this moment, the experiment does not observe neutrinos, what is the probability that the reactor is off?"
   ]
  },
  {
   "cell_type": "markdown",
   "metadata": {
    "slideshow": {
     "slide_type": "slide"
    }
   },
   "source": [
    "## 2. Probability density functions\n",
    "\n",
    "\n",
    "Measurements are of probabilistic nature, there are **random variables** (rv). \n",
    "\n",
    "The distribution probability, $g(x)$, that follow a rv is called **probability density function**, pdf. \n",
    "\n",
    "If $x$ takes discrete values, it called **probability mass function**, pmf. \n",
    "\n",
    "Here we will abuse the lenguate and call them both as 'pdf'.\n",
    "\n",
    "\n",
    "In most of the cases the pdfs depends on some parameters $\\mu$, indicated as $g(x | \\mu)$.\n"
   ]
  },
  {
   "cell_type": "markdown",
   "metadata": {
    "slideshow": {
     "slide_type": "subslide"
    }
   },
   "source": [
    "From the probability axions we have: \n",
    "\n",
    "$$\n",
    "\\int_{-\\infty}^{\\infty} g(x) \\, \\mathrm{d}x = 1\n",
    "$$\n",
    "\n",
    "We define the cumutative density function, cdf, $F(x)$, as:\n",
    "\n",
    "$$\n",
    "F(x) = \\int_{-\\infty}^{x} g(x) \\, \\mathrm{d}x\n",
    "$$"
   ]
  },
  {
   "cell_type": "markdown",
   "metadata": {
    "slideshow": {
     "slide_type": "slide"
    }
   },
   "source": [
    "###  Common probability density functions \n",
    "\n",
    "The most commont distributions in HEP are:\n",
    "\n",
    "* **Binomial**. A event can happen with probability $p$. The probability to get $n$ events if we try $N$ times is given by the binomial pdf. \n",
    "\n",
    "$$\n",
    "g(n|N,p) = \\frac{N!}{n! (N-n)!} p^n (1-p)^{N-n}\n",
    "$$\n",
    "\n",
    "* **Poisson**. Number of events if we expect $\\nu$. i.e the number of interactions in a crossing of the LHC beams is modeled with a poisson. Nuclear decays are poisson distributed too.\n",
    "\n",
    "$$ \n",
    "g(n|\\nu) = \\frac{\\nu^n}{n!} e^{-\\nu}\n",
    "$$ \n",
    "\n",
    "* **Uniform**. Equal probability to get $x$ in an interval $[a, b]$.\n",
    "\n",
    "$$\n",
    "g(x|a,b) = \\frac{1}{(b-a)}\n",
    "$$\n"
   ]
  },
  {
   "cell_type": "markdown",
   "metadata": {
    "slideshow": {
     "slide_type": "slide"
    }
   },
   "source": [
    "\n",
    "* **Exponential**. An event can happen in $x$ with probability $1/\\tau$. i.e The time of particles decays.\n",
    "\n",
    "$$\n",
    "g(x|\\tau) = \\frac{1}{\\tau} e^{-x/\\tau}\n",
    "$$\n",
    "\n",
    "* **Gaussian** (or normal). Associated with the distributions of measurements.\n",
    "\n",
    "$$ \n",
    "g(x|\\mu,\\sigma) = \\frac{1}{\\sqrt{2\\pi} \\sigma} e^{-\\frac{(x-\\mu)^2}{2\\sigma^2}}\n",
    "$$ \n",
    "\n",
    "* **$\\chi^2_n$** with $n$ degrees of freedom. Associated with goodness of fit.\n",
    "\n",
    "$$\n",
    "g(x|n) = \\frac{1}{2^{n/2} \\Gamma(n/2)} x^{n/2-1}e^{-x/2}\n",
    "$$"
   ]
  },
  {
   "cell_type": "markdown",
   "metadata": {
    "slideshow": {
     "slide_type": "slide"
    }
   },
   "source": [
    "\n",
    "* **Breit-Wigner**. Describes the distribution of masses in resonances. \n",
    "\n",
    "$$\n",
    "g(x|\\Gamma,x_0) = \\frac{1}{\\pi} \\frac{\\Gamma/2}{\\Gamma^2/4 + (x-x_0)^2} \n",
    "$$\n",
    "\n",
    "* **Beta**. Associated with the measurement of probabilities. Used in Bayesian statistics.\n",
    "\n",
    "$$\n",
    "g(x | \\alpha,\\beta) = \\frac{\\Gamma(\\alpha+\\beta)}{\\Gamma(\\alpha)\\Gamma(\\beta)} x^{\\alpha-1} (1-x)^{\\beta-1}\n",
    "$$\n",
    "\n",
    "where $x, \\alpha, \\beta$ are positive.\n",
    "* **Gamma**. Associated with bayesian statistics with poisson distributions. \n",
    "\n",
    "$$\n",
    "g(x | \\alpha,\\beta) = \\frac{\\beta^\\alpha}{\\Gamma(\\alpha)} x^{\\alpha-1} e^{-x \\beta}\n",
    "$$\n",
    "\n",
    "where $x, \\alpha, \\beta$ are positive.\n",
    "\n"
   ]
  },
  {
   "cell_type": "markdown",
   "metadata": {
    "slideshow": {
     "slide_type": "slide"
    }
   },
   "source": [
    "\n",
    "Some of the pdfs are nicely related:\n",
    "\n",
    "In the case that an event is rare, has a small probability, $p$, but we do a large number of trials, $N$, the events distribution follows a binomial with $g(n | N, p)$, if $ N \\, p = \\nu$ is constant, and $N$ is large enough and $p$ small enough, the binomial is equivalent to a Poisson with mean $\\nu$, $g(n | \\nu)$.\n",
    "\n",
    "For example nucleus decays follow this rule: large trials ($N$, number of nucleus) and small decay probability ($p$).\n",
    "\n",
    "When $\\nu$ is \"large\", 12 is enough, the Poisson transforms into Gaussian with $\\mu=\\nu, \\sigma = \\sqrt{\\mu}$.\n",
    "\n",
    "When we take n values of $x$, gaussian distributed, with mean $\\mu$ and sigma $\\sigma$, and compute $\\chi^2 = \\sum_{i=1,n} \\frac{(x_i -\\mu)^2}{\\sigma^2}$, it follows a chi-squared distribution with $n$ degrees of freedom.\n",
    "\n"
   ]
  },
  {
   "cell_type": "markdown",
   "metadata": {
    "slideshow": {
     "slide_type": "slide"
    }
   },
   "source": [
    "**Exercise:** Compare a poisson distribution, with $\\nu=p \\, N$ with a binomial when $N$ is large and $p$ is small."
   ]
  },
  {
   "cell_type": "code",
   "execution_count": 18,
   "metadata": {
    "slideshow": {
     "slide_type": "fragment"
    }
   },
   "outputs": [
    {
     "data": {
      "image/png": "[encoded data removed]",
      "text/plain": [
       "<Figure size 432x288 with 1 Axes>"
      ]
     },
     "metadata": {
      "needs_background": "light"
     },
     "output_type": "display_data"
    }
   ],
   "source": [
    "N, p = 1000, 0.008; ns = np.arange(20)\n",
    "plt.bar(ns, stats.binom.pmf(ns, N, p) , color='green' , alpha=0.5, label='binomial')\n",
    "plt.bar(ns, stats.poisson.pmf(ns, N*p), color='blue', alpha=0.5, label='poisson')\n",
    "plt.xlabel('x'); plt.ylabel('g(x)'); plt.legend();"
   ]
  },
  {
   "cell_type": "markdown",
   "metadata": {
    "slideshow": {
     "slide_type": "slide"
    }
   },
   "source": [
    "**Exercise:** Compare a gaussian distribution, with $\\mu=p \\, N, \\, \\sigma = \\sqrt{\\mu}$ with a binomial when $N$ is large and $p$ is small and $\\mu = N p > 50$."
   ]
  },
  {
   "cell_type": "code",
   "execution_count": 12,
   "metadata": {
    "slideshow": {
     "slide_type": "fragment"
    }
   },
   "outputs": [
    {
     "data": {
      "image/png": "[encoded data removed]",
      "text/plain": [
       "<Figure size 432x288 with 1 Axes>"
      ]
     },
     "metadata": {
      "needs_background": "light"
     },
     "output_type": "display_data"
    }
   ],
   "source": [
    "N, p = 1e4, 50./1e4; ns = np.arange(100)\n",
    "plt.bar(ns, stats.binom.pmf(ns, N, p)            , color='green' , alpha=0.5, label='binomial')\n",
    "plt.bar(ns, stats.norm.pdf(ns, N*p, np.sqrt(N*p)), color='orange', alpha=0.5, label='gaussian')\n",
    "plt.xlabel('x'); plt.ylabel('g(x)'); plt.legend();"
   ]
  },
  {
   "cell_type": "markdown",
   "metadata": {
    "slideshow": {
     "slide_type": "slide"
    }
   },
   "source": [
    "\n",
    "**Exercise:** Check that from a \"large\" $\\nu$ the poisson distribution is equivalent to a gaussian distribution.\n",
    "\n",
    "**Exercise:** Generate $m$ datasets, each one with $n$ data, $x_i$ distributed random in $[0, 1]$ interval, sum the $n$ numbers, $\\sum_i^n x_i$ and obtain the distribution of the $m$ samples.\n"
   ]
  },
  {
   "cell_type": "markdown",
   "metadata": {
    "slideshow": {
     "slide_type": "subslide"
    }
   },
   "source": [
    "**Exercise:** Generate $m$ datasets, each with $n$ data, $x_i$, normal distributed, compute its distance squared $\\chi^2 = \\sum_{i=1}^n x^2_i$, what is the distribution of $\\chi^2$?\n",
    "\n",
    "**Exercise:** Generate $n$ $x_i$-values, each one gaussian distributed with mean $\\mu_i$ and sigma $\\sigma_i$, show that the sum $\\sum_i x_i$ is gaussian distributed with mean, $\\mu = \\sum_i \\mu_i$, and sigma $\\sigma^2 = \\sum_i \\sigma^2_i$."
   ]
  },
  {
   "cell_type": "markdown",
   "metadata": {
    "slideshow": {
     "slide_type": "slide"
    }
   },
   "source": [
    "### Expectation values\n",
    "\n",
    "Given a $x$ rv that follows a pdf, $\\, g(x)$, and a function $f(x)$ on $x$, we define the expected value of $g(x)$ as:\n",
    "\n",
    "$$\n",
    "E[g(x)] \\equiv \\int f(x) \\, g(x) \\, \\mathrm{d}x\n",
    "$$\n",
    "\n",
    "The **mean**, or average value, is the expected value of $x$:\n",
    "\n",
    "$$\n",
    "E[x] = \\mu \\equiv  \\int x \\, g(x) \\, \\mathrm{d}x\n",
    "$$\n",
    "\n",
    "The **variance** is the expected value of $(x-\\mu)^2$:\n",
    "\n",
    "$$\n",
    "V[x] = \\sigma^2 = E[(x-\\mu)^2]= E[x^2]-\\mu^2 \\equiv \\int (x-\\mu)^2 \\, g(x) \\, \\mathrm{d}x\n",
    "$$\n",
    "\n",
    "We call **standard deviation** to: $\\sigma = \\sqrt{V[x]}$\n",
    "\n"
   ]
  },
  {
   "cell_type": "markdown",
   "metadata": {
    "slideshow": {
     "slide_type": "slide"
    }
   },
   "source": [
    "\n",
    "The **expected value** is the $x$ value with the highest probability $g(x)$.\n",
    "\n",
    "The **median**, is the $x_{med}$ value that divides the distribution in half, \n",
    "\n",
    "$$\n",
    "\\int_0^{x_{med}} g(x) \\mathrm{d}x = 0.5\n",
    "$$\n",
    "\n",
    "For a symmetric pdf, the mean and median are the same.\n",
    "\n",
    "\n",
    "If ${\\bf x}$ is a vector, the pdf is a n-dimensional function. \n",
    "We define the covariance element between $i$ and $j$ elements as:\n",
    "\n",
    "$$\n",
    "\\mathrm{cov}[x_i,x_j] = \\int x_i \\, x_j \\, g({\\bf x}) \\; \\Pi_{i=1,n} \\mathrm{d}x_i\n",
    "$$\n",
    "\n",
    "If the variables $x_i, \\, x_j$ variables are independent then the covariance is zero. \n",
    "The contrary is not necessarily true.\n",
    "\n"
   ]
  },
  {
   "cell_type": "markdown",
   "metadata": {
    "slideshow": {
     "slide_type": "notes"
    }
   },
   "source": [
    "We call **marginal** pdf when one or more rvs are integrated out, for example if we integrate $x_n$:\n",
    "$$\n",
    "g(x_1,\\dots,x_{n-1}) = \\int g({\\bf x}) \\mathrm{d}x_n\n",
    "$$\n",
    "\n",
    "We can \"project\" the pdf in one axis, that is get the marginal pdf for each variable $x_i$ individually:\n",
    "$$\n",
    "g(x_j) = \\int g({\\bf x}) \\, \\Pi_{i=1,n; i \\neq j} \\, \\mathrm{d}x_i\n",
    "$$\n"
   ]
  },
  {
   "cell_type": "markdown",
   "metadata": {
    "slideshow": {
     "slide_type": "slide"
    }
   },
   "source": [
    "\n",
    "**Exercise:** Get the poisson distribution from a Gamma distribution.\n",
    "\n",
    "**Exercise:** Get an exponential distribution from a Gamma distribution.\n",
    "\n",
    "**Exercise:** Get the $\\chi^2$ distribution from a Gamma distribution.\n",
    "\n",
    "**Exercise:** Study the Beta distribution for different parameters of $\\alpha, \\beta$ (start $\\alpha=\\beta=1$)."
   ]
  },
  {
   "cell_type": "markdown",
   "metadata": {
    "slideshow": {
     "slide_type": "slide"
    }
   },
   "source": [
    "### Likelihood \n",
    "A frequentist evaluate the likelihood of its data.\n",
    "\n",
    "The **probability density function**, *pdf*, $g(x | \\mu)$is the probability to measure $x$, which depends on the parameters $\\mu$.\n",
    "\n",
    "A **likelihood** is the probability evaluted on a observation data, $x$, (on data!)\n"
   ]
  },
  {
   "cell_type": "markdown",
   "metadata": {
    "slideshow": {
     "slide_type": "subslide"
    }
   },
   "source": [
    "\n",
    "For n, $x$, independent measurements that follow a pdf, $g(x | \\mu)$, the likelihood is the product of the likelihood of each measurement $x_i$:\n",
    "\n",
    "$$\n",
    "\\mathcal{L}(x | \\mu) = \\Pi_{i=1}^n g(x_i | \\mu)\n",
    "$$\n",
    "\n",
    "\n",
    "The likelihood can be a very small number, for that reason, it is common to take the logarithm, and called **log likelihood**:\n",
    "\n",
    "$$\n",
    "\\log \\mathcal{L}(x |\\mu) = \\sum_{i=1}^n \\log \\left(g(x_i |\\mu) \\right)\n",
    "$$\n",
    "\n",
    "If $\\mu$ is known, the likelihood is an real number, if not, $\\mathcal{L}(x | \\mu)$ is a function of the $\\mu$ parameter(s).\n",
    "\n"
   ]
  },
  {
   "cell_type": "markdown",
   "metadata": {
    "slideshow": {
     "slide_type": "slide"
    }
   },
   "source": [
    "\n",
    "Given data $x$, with $\\mu$ unknown, the likelihood is a function that depends on the parameter(s) $\\mu$, $\\mathcal{L}(x | \\mu)$. \n",
    "\n",
    "Frequentists usually estimate the best-parameters, $\\hat{\\mu}$, as the parameters that maximize the likelihood ($\\mathcal{L}(x | \\hat{\\mu})$ is maximum).\n",
    "\n",
    "But for convenience, we use instead:\n",
    "\n",
    "$$\n",
    "-2 \\log \\mathcal{L}(x |\\mu)\n",
    "$$\n",
    "\n",
    "And then $\\hat{\\mu}$ minimize the log-likelihood."
   ]
  },
  {
   "cell_type": "markdown",
   "metadata": {
    "slideshow": {
     "slide_type": "slide"
    }
   },
   "source": [
    "## 3. Frequentist vs Bayesians\n",
    "\n",
    "The is a great divide in statistics: frequentist vs Bayesians. \n",
    "\n",
    "**Frequentist are inductive**. *They compute the probability of an observation by repeating the same experiment many times*. They test is the data is compatible with the theory. \n",
    "\n",
    "\n",
    "**Bayesians are deductive**. *They compute the probability using the Bayes' theorem. \n",
    "They measure the credibility of a theory based on the data, but they need to assign first a prior probability based in a 'reasonable' initial guess*. \n",
    "\n"
   ]
  },
  {
   "cell_type": "markdown",
   "metadata": {
    "slideshow": {
     "slide_type": "subslide"
    }
   },
   "source": [
    "Frequentists measure a **likelihood function**:\n",
    "\n",
    "$$\n",
    "\\mathcal{L} (x | \\mu)\n",
    "$$\n",
    "\n",
    "Frequentists usually estimate the best-parameters, $\\hat{\\mu}$, as the parameters that maximize the likelihood ($\\mathcal{L}(x | \\hat{\\mu})$ is maximum).\n",
    "\n",
    "Bayesians measure a **posterior probability**:\n",
    "\n",
    "$$\n",
    "p(\\mu | x)\n",
    "$$\n",
    "\n",
    "using an initial prior $\\pi(\\mu)$ probability and the Bayes' theorem."
   ]
  },
  {
   "cell_type": "markdown",
   "metadata": {
    "slideshow": {
     "slide_type": "slide"
    }
   },
   "source": [
    "A conversation of a bayesian and a frequentist:\n",
    "\n",
    "<img src=\"./figs/bayes_cartoon.png\" width=\"500\">\n",
    "\n"
   ]
  },
  {
   "cell_type": "markdown",
   "metadata": {
    "slideshow": {
     "slide_type": "slide"
    }
   },
   "source": [
    "Most of physicist we are bayesians, but we think of ourselves as frequentists. \n",
    "\n",
    "Consider the discovery of the Higgs. \n",
    "\n",
    "A frequentist claims: *LHC data strongly disagrees with the hypothesis of the SM without the Higgs and agrees with a Higgs.* \n",
    "\n",
    "While a Bayesian claims: *We have discovered the Higgs!*\n",
    "\n"
   ]
  },
  {
   "cell_type": "markdown",
   "metadata": {
    "slideshow": {
     "slide_type": "subslide"
    }
   },
   "source": [
    "\n",
    "A joke in HEP (L. Lyons quotation?)\n",
    "\n",
    "Frequentists use implecable logic to answer questions that nobody cares about.\n",
    "\n",
    "Bayesians address the questions that everyone is interested on using assumptions that nobody believes\n"
   ]
  },
  {
   "cell_type": "markdown",
   "metadata": {
    "slideshow": {
     "slide_type": "slide"
    }
   },
   "source": [
    "###  Likelihood and posterior  probability - An example\n",
    "\n",
    "Let's consider the basic measurement case seen by a frequentist and by a bayesian.\n",
    "\n",
    "We just measure a quantity $\\mu$ using a set of data $x$. Data $x$ are gaussian distributed with known sigma, $\\sigma$. We want to estimate $\\hat{\\mu}$.\n",
    "\n",
    "For example, $x$ is a set of values from a gaussian distribution with mean zero and sigma one. How to estimate $\\hat{\\mu}$?\n",
    "\n",
    "Obvious, it is the average! And the uncertanty in the average is $\\sigma/\\sqrt{n}$, where $n$ is the number of events in our sample!"
   ]
  },
  {
   "cell_type": "markdown",
   "metadata": {
    "slideshow": {
     "slide_type": "slide"
    }
   },
   "source": [
    "\n",
    "**Example**: Generate a n-size sample with $x$ values generated random from a normal gaussian. The likelihood function is drawn as a function $\\mu$. The best-estimate $\\hat{\\mu}$ is the value where the likelihood is maximum.\n",
    "\n",
    "$$\n",
    "- 2 \\log \\mathcal{L}(x | \\mu ) = - 2 \\sum_{i=1}^n \\log g(x | \\mu)\n",
    "$$\n",
    "\n",
    "\n",
    "**Explore:** Generate $n$ samples of a normal. Compute the likelihood as function of the mean (fix sigma of the gaussian to 1)."
   ]
  },
  {
   "cell_type": "code",
   "execution_count": 22,
   "metadata": {
    "slideshow": {
     "slide_type": "subslide"
    }
   },
   "outputs": [
    {
     "name": "stdout",
     "output_type": "stream",
     "text": [
      "mu mean : 0.4035115231723498 , mu std : 0.5\n"
     ]
    },
    {
     "data": {
      "image/png": "[encoded data removed]",
      "text/plain": [
       "<Figure size 432x288 with 2 Axes>"
      ]
     },
     "metadata": {
      "needs_background": "light"
     },
     "output_type": "display_data"
    }
   ],
   "source": [
    "nsize = 4\n",
    "xs = stats.norm(0., 1.).rvs(nsize)\n",
    "htexam.normal_likelihood(xs);\n",
    "#plt.yscale('log');"
   ]
  },
  {
   "cell_type": "markdown",
   "metadata": {
    "slideshow": {
     "slide_type": "slide"
    }
   },
   "source": [
    "### Posterior probability in bayesian statistics\n",
    "\n",
    "Bayesians improve a prior probability, \"knowledge\", of an hypothesis using data.\n",
    "\n",
    "Suppose that we have an ensemble of possible hypotheses $\\mu$, each one with a prior probability $\\pi(\\mu)$. \n",
    "\n",
    "Os course:\n",
    "\n",
    "$$\n",
    "\\int \\pi(\\mu) \\, \\mathrm{d}\\mu = 1\n",
    "$$\n",
    "\n",
    "Or, if the hypotheses are descrete:\n",
    "\n",
    "$$\n",
    "\\sum \\pi(\\mu) = 1\n",
    "$$"
   ]
  },
  {
   "cell_type": "markdown",
   "metadata": {
    "slideshow": {
     "slide_type": "subslide"
    }
   },
   "source": [
    "\n",
    "Given some data, $x$, Bayes' theorem allow us to compute the **posterior probability**. \n",
    "\n",
    "The posterior probability,  $p(\\mu|x)$, of $\\mu$ given $x$ is: \n",
    "\n",
    "$$\n",
    "p(\\mu|x) = \\frac{p(x|\\mu) \\, \\pi(\\mu)}{ p(x)}\n",
    "$$\n",
    "\n",
    "\n"
   ]
  },
  {
   "cell_type": "markdown",
   "metadata": {
    "slideshow": {
     "slide_type": "subslide"
    }
   },
   "source": [
    "\n",
    "That is:\n",
    "\n",
    "$$\n",
    "p(\\mu|x) = \\frac{p(x|\\mu) \\, \\pi(\\mu)}{\\int p(x|\\mu) \\pi(\\mu) \\, \\mathrm{d}\\mu}\n",
    "$$\n",
    "\n",
    "\n",
    "if the hypotheses are discrete:\n",
    "\n",
    "$$\n",
    "p(\\mu|x) = \\frac{p(x|\\mu) \\, \\pi(\\mu)}{\\sum p(x|\\mu) \\pi(\\mu)}\n",
    "$$\n",
    "\n"
   ]
  },
  {
   "cell_type": "markdown",
   "metadata": {
    "slideshow": {
     "slide_type": "slide"
    }
   },
   "source": [
    "**Example:** Consider the example above. An sample of $n$ measurements from a normal distribution. Obtain the posterior probability of the mean, if the sigma is know. "
   ]
  },
  {
   "cell_type": "markdown",
   "metadata": {
    "slideshow": {
     "slide_type": "subslide"
    }
   },
   "source": [
    "Consider a unique data $x_0$, from a gaussian distribution $g(x | \\mu, \\sigma = 0)$, and a 'reasonable' uniform prior $\\pi(\\mu) = 1$.\n",
    "\n",
    "The posterior probability using bayes is:\n",
    "\n",
    "$$\n",
    "p(\\mu | x_0) = \\frac{g( x_0 | \\mu, \\sigma = 1) \\, \\pi(\\mu)}{ \\int g(x_0 | \\mu, \\sigma = 1)  \\, \\pi(\\mu) \\, \\mathrm{d} \\mu } = g(x_0 | \\mu, \\sigma = 1)\n",
    "$$\n",
    "\n",
    "that is, a gaussian with sigma unity and centered at $x_0$!"
   ]
  },
  {
   "cell_type": "markdown",
   "metadata": {
    "slideshow": {
     "slide_type": "subslide"
    }
   },
   "source": [
    "\n",
    "**Exercise:** Show that the posterior of n measurements, $x$, normal distributed, $g(x | \\mu, \\sigma)$, with a flat prior on $\\mu$, and known $\\sigma$, is a gaussian with mean $\\mu = \\bar{x}$, the average of the $n$ $x$ measurements, and the sigma $\\sigma/\\sqrt{n}$"
   ]
  },
  {
   "cell_type": "code",
   "execution_count": 21,
   "metadata": {
    "slideshow": {
     "slide_type": "slide"
    }
   },
   "outputs": [
    {
     "name": "stdout",
     "output_type": "stream",
     "text": [
      "posterior integral 1.000\n"
     ]
    },
    {
     "data": {
      "image/png": "[encoded data removed]",
      "text/plain": [
       "<Figure size 432x288 with 2 Axes>"
      ]
     },
     "metadata": {
      "needs_background": "light"
     },
     "output_type": "display_data"
    }
   ],
   "source": [
    "nsize = 4\n",
    "xs = stats.norm(0., 1.).rvs(nsize)\n",
    "htexam.normal_posterior(xs);"
   ]
  },
  {
   "cell_type": "code",
   "execution_count": 23,
   "metadata": {
    "slideshow": {
     "slide_type": "slide"
    }
   },
   "outputs": [
    {
     "name": "stdout",
     "output_type": "stream",
     "text": [
      "mu mean : -0.2343155798931381 , mu std : 0.31622776601683794\n",
      "posterior integral 1.000\n"
     ]
    },
    {
     "data": {
      "image/png": "[encoded data removed]",
      "text/plain": [
       "<Figure size 432x288 with 4 Axes>"
      ]
     },
     "metadata": {
      "needs_background": "light"
     },
     "output_type": "display_data"
    }
   ],
   "source": [
    "nsize = 10\n",
    "xs    = stats.norm(0., 1.).rvs(nsize)\n",
    "plt.subplot(2, 1, 1); htexam.normal_likelihood(xs)\n",
    "plt.subplot(2, 1, 2); htexam.normal_posterior(xs);"
   ]
  },
  {
   "cell_type": "markdown",
   "metadata": {
    "slideshow": {
     "slide_type": "slide"
    }
   },
   "source": [
    "**Exercise:** Show that the posterior of a normal prior, $\\pi(\\mu | \\mu_0, \\sigma_{\\mu_0})$,\n",
    "and a normal likelihood, $p(x |\\mu, \\sigma)$, for n-measurements, $x$, is a normal distribution with mean, $\\mu'$, and sigma, $\\sigma_{\\mu'}$:\n",
    "\n",
    "$$\n",
    "\\frac{1}{\\sigma^2_{\\mu'}} = \\frac{n}{\\sigma^2} + \\frac{1}{\\sigma^2_{\\mu_0}}, \n",
    "\\;\\;\\;\n",
    "\\mu' = \\sigma^2_{\\mu'} \\left( \\frac{\\mu_0}{\\sigma^2_{\\mu_0}} + \\frac{\\sum_i x_i}{\\sigma^2} \\right)\n",
    "$$"
   ]
  },
  {
   "cell_type": "markdown",
   "metadata": {
    "slideshow": {
     "slide_type": "slide"
    }
   },
   "source": [
    "**Exercise:** There are several dices in a box, with 4, 6, 12 and 24 sides. We randomly pick one dice and we roll it four times. The outcomes are $\\{1,4,5,2\\}$. What is the posterior probability that the selected dice has 4, 6, 12 or 24 sides? What is the posterior probability if we roll it twice again and wet get now 6 and 1? "
   ]
  },
  {
   "cell_type": "code",
   "execution_count": 24,
   "metadata": {
    "slideshow": {
     "slide_type": "slide"
    }
   },
   "outputs": [
    {
     "name": "stdout",
     "output_type": "stream",
     "text": [
      "!\n",
      "data : 1  posteriors:  [0.26086957 0.34782609 0.17391304 0.2173913 ]\n",
      "!\n",
      "data : 4  posteriors:  [0.44444444 0.39506173 0.09876543 0.0617284 ]\n",
      "!\n",
      "data : 5  posteriors:  [0.         0.8590604  0.10738255 0.03355705]\n",
      "!\n",
      "data : 2  posteriors:  [0.         0.93260474 0.0582878  0.00910747]\n"
     ]
    }
   ],
   "source": [
    "measurements = [1, 4, 5, 2]\n",
    "hpriors      = [0.10, 0.20, 0.20, 0.50]\n",
    "for meas in measurements:\n",
    "    hpriors = htexam.dice_posterior(meas, hpriors) \n",
    "    print('data :', meas, ' posteriors: ', hpriors)"
   ]
  },
  {
   "cell_type": "code",
   "execution_count": null,
   "metadata": {},
   "outputs": [],
   "source": []
  }
 ],
 "metadata": {
  "anaconda-cloud": {},
  "celltoolbar": "Slideshow",
  "kernelspec": {
   "display_name": "Python 3",
   "language": "python",
   "name": "python3"
  },
  "language_info": {
   "codemirror_mode": {
    "name": "ipython",
    "version": 3
   },
   "file_extension": ".py",
   "mimetype": "text/x-python",
   "name": "python",
   "nbconvert_exporter": "python",
   "pygments_lexer": "ipython3",
   "version": "3.7.9"
  }
 },
 "nbformat": 4,
 "nbformat_minor": 1
}
